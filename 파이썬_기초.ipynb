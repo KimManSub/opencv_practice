{
  "nbformat": 4,
  "nbformat_minor": 0,
  "metadata": {
    "colab": {
      "provenance": []
    },
    "kernelspec": {
      "name": "python3",
      "display_name": "Python 3"
    },
    "language_info": {
      "name": "python"
    }
  },
  "cells": [
    {
      "cell_type": "markdown",
      "source": [
        "### 1장 기초"
      ],
      "metadata": {
        "id": "N5SWjEXD9YY0"
      }
    },
    {
      "cell_type": "code",
      "execution_count": null,
      "metadata": {
        "colab": {
          "base_uri": "https://localhost:8080/"
        },
        "id": "tHMdnfjo8y1O",
        "outputId": "0c972231-1973-4bea-a856-74f48ca32c0a"
      },
      "outputs": [
        {
          "output_type": "stream",
          "name": "stdout",
          "text": [
            "5\n"
          ]
        }
      ],
      "source": [
        "print(5)"
      ]
    },
    {
      "cell_type": "code",
      "source": [
        "print(10)"
      ],
      "metadata": {
        "colab": {
          "base_uri": "https://localhost:8080/"
        },
        "id": "LNwqdNM_9QwR",
        "outputId": "a1f8603d-fa46-4908-e56a-7b1d828e6964"
      },
      "execution_count": null,
      "outputs": [
        {
          "output_type": "stream",
          "name": "stdout",
          "text": [
            "10\n"
          ]
        }
      ]
    },
    {
      "cell_type": "code",
      "source": [
        "print(3.14)"
      ],
      "metadata": {
        "colab": {
          "base_uri": "https://localhost:8080/"
        },
        "id": "-5vKMsW89SBg",
        "outputId": "c48c6493-dcbb-4b66-e950-8e89822bc38b"
      },
      "execution_count": null,
      "outputs": [
        {
          "output_type": "stream",
          "name": "stdout",
          "text": [
            "3.14\n"
          ]
        }
      ]
    },
    {
      "cell_type": "code",
      "source": [
        "print(1000)"
      ],
      "metadata": {
        "colab": {
          "base_uri": "https://localhost:8080/"
        },
        "id": "UGapI90v9gJ8",
        "outputId": "e1b21a16-35f6-4bed-be87-76356b0ac01b"
      },
      "execution_count": null,
      "outputs": [
        {
          "output_type": "stream",
          "name": "stdout",
          "text": [
            "1000\n"
          ]
        }
      ]
    },
    {
      "cell_type": "code",
      "source": [
        "print(5+3)"
      ],
      "metadata": {
        "colab": {
          "base_uri": "https://localhost:8080/"
        },
        "id": "LPXljwtU90mA",
        "outputId": "3c157d91-6a95-48cb-c50f-62f2ee1c8ef6"
      },
      "execution_count": null,
      "outputs": [
        {
          "output_type": "stream",
          "name": "stdout",
          "text": [
            "8\n"
          ]
        }
      ]
    },
    {
      "cell_type": "code",
      "source": [
        "print(2*8)"
      ],
      "metadata": {
        "colab": {
          "base_uri": "https://localhost:8080/"
        },
        "id": "mzzuYWD091d0",
        "outputId": "c1ea8364-4ecc-465a-f241-f160cdbd8052"
      },
      "execution_count": null,
      "outputs": [
        {
          "output_type": "stream",
          "name": "stdout",
          "text": [
            "16\n"
          ]
        }
      ]
    },
    {
      "cell_type": "code",
      "source": [
        "print(3*3+1)"
      ],
      "metadata": {
        "colab": {
          "base_uri": "https://localhost:8080/"
        },
        "id": "cdVoMwaW93C-",
        "outputId": "f4cd05fe-43e3-44f2-ba9e-c45942d81d4e"
      },
      "execution_count": null,
      "outputs": [
        {
          "output_type": "stream",
          "name": "stdout",
          "text": [
            "10\n"
          ]
        }
      ]
    },
    {
      "cell_type": "code",
      "source": [],
      "metadata": {
        "id": "ic7aJhLg9_ER"
      },
      "execution_count": null,
      "outputs": []
    },
    {
      "cell_type": "markdown",
      "source": [
        "### 문자열 자료"
      ],
      "metadata": {
        "id": "6j70nkS8960u"
      }
    },
    {
      "cell_type": "code",
      "source": [
        "print('풍선')"
      ],
      "metadata": {
        "colab": {
          "base_uri": "https://localhost:8080/"
        },
        "id": "ei7EVpOa-CLM",
        "outputId": "5e3806bf-804d-45d8-9191-50208f12dfdf"
      },
      "execution_count": null,
      "outputs": [
        {
          "output_type": "stream",
          "name": "stdout",
          "text": [
            "풍선\n"
          ]
        }
      ]
    },
    {
      "cell_type": "code",
      "source": [
        "print(\"나비\")"
      ],
      "metadata": {
        "id": "XIoMG-cP-Eqg"
      },
      "execution_count": null,
      "outputs": []
    },
    {
      "cell_type": "code",
      "source": [
        "print(\"ㅋ\"*9)"
      ],
      "metadata": {
        "id": "a-J8iHQX-LBF"
      },
      "execution_count": null,
      "outputs": []
    },
    {
      "cell_type": "markdown",
      "source": [
        "### boolean 자료형"
      ],
      "metadata": {
        "id": "RuIBzthS-QA5"
      }
    },
    {
      "cell_type": "code",
      "source": [
        "# 참/거짓\n",
        "print(5>10)\n",
        "print(5<10)\n",
        "print(True)\n",
        "print(False)\n",
        "print(not True)\n",
        "print(not False)\n",
        "print(not (5>10))\n"
      ],
      "metadata": {
        "colab": {
          "base_uri": "https://localhost:8080/"
        },
        "id": "m_zrx4VE-Vc_",
        "outputId": "014cac7b-b4fa-4282-cb7d-546eeb6d2a3d"
      },
      "execution_count": null,
      "outputs": [
        {
          "output_type": "stream",
          "name": "stdout",
          "text": [
            "False\n",
            "True\n",
            "True\n",
            "False\n",
            "False\n",
            "True\n",
            "True\n"
          ]
        }
      ]
    },
    {
      "cell_type": "markdown",
      "source": [
        "### 변수"
      ],
      "metadata": {
        "id": "XSf2jizY-3L3"
      }
    },
    {
      "cell_type": "code",
      "source": [
        "# 애완동물을 소개해 주세요~"
      ],
      "metadata": {
        "id": "FPcJZYcU-7U0"
      },
      "execution_count": null,
      "outputs": []
    },
    {
      "cell_type": "code",
      "source": [
        "animal = \"강아지\"\n",
        "name = \"연탄이\"\n",
        "age = 4\n",
        "hobby = \"산책\"\n",
        "is_adult = age >= 3\n",
        "\n",
        "print(\"우리집\" + animal + \"의 이름은\" + name + \"에요\")\n",
        "print(name + \"는\" + str(age) + \"살이며,\" + hobby + \"을 아주 좋아해요\")"
      ],
      "metadata": {
        "colab": {
          "base_uri": "https://localhost:8080/"
        },
        "id": "F1zfoOTa_W3v",
        "outputId": "f1755395-3365-45a3-d9e7-b9c23c72dc2f"
      },
      "execution_count": null,
      "outputs": [
        {
          "output_type": "stream",
          "name": "stdout",
          "text": [
            "우리집강아지의 이름은연탄이에요\n",
            "연탄이는4살이며,산책을 아주 좋아해요\n"
          ]
        }
      ]
    },
    {
      "cell_type": "code",
      "source": [
        "# Quiz) 변수를 이용하여 다음 문장을 출력하시오\n",
        "\n",
        "# 변수명\n",
        "# : station\n",
        "\n",
        "# 변수값\n",
        "# : \"사당\", \"신도림\", \"인천공항\" 순서대로 입력\n",
        "\n",
        "# 출력 문장\n",
        "# : XX 행 열차가 들어오고 있습니다.\n",
        "\n",
        "station = \"인천공항\"\n",
        "print(station + \"행 열차가 들어오고 있습니다.\")"
      ],
      "metadata": {
        "colab": {
          "base_uri": "https://localhost:8080/"
        },
        "id": "C-3-VV7nDoZW",
        "outputId": "929ac399-50c6-4a1d-caab-6171d5a7b68f"
      },
      "execution_count": null,
      "outputs": [
        {
          "output_type": "stream",
          "name": "stdout",
          "text": [
            "인천공항행 열차가 들어오고 있습니다.\n"
          ]
        }
      ]
    },
    {
      "cell_type": "markdown",
      "source": [
        "### 연산자"
      ],
      "metadata": {
        "id": "cdhAhG2YIAPe"
      }
    },
    {
      "cell_type": "code",
      "source": [
        "print(1+1)\n",
        "print(3-2)\n",
        "print(5*2)\n",
        "print(6/3)\n",
        "print(2**3)\n",
        "print(5%3)\n",
        "print(10%3)\n",
        "print(10//3)\n",
        "print(5//3)"
      ],
      "metadata": {
        "colab": {
          "base_uri": "https://localhost:8080/"
        },
        "id": "NDh5kOsBN6KU",
        "outputId": "45bc7553-c806-46c8-efba-fcdb5d224b5f"
      },
      "execution_count": null,
      "outputs": [
        {
          "output_type": "stream",
          "name": "stdout",
          "text": [
            "2\n",
            "1\n",
            "10\n",
            "2.0\n",
            "8\n",
            "2\n",
            "1\n",
            "3\n",
            "1\n"
          ]
        }
      ]
    },
    {
      "cell_type": "code",
      "source": [
        "print(10>3)\n",
        "print(4>=7)\n",
        "print(10<3)\n",
        "print(5<=5)"
      ],
      "metadata": {
        "colab": {
          "base_uri": "https://localhost:8080/"
        },
        "id": "G7X0hjN2OtSN",
        "outputId": "4249b3fa-3a58-4841-e77e-c739caabf452"
      },
      "execution_count": null,
      "outputs": [
        {
          "output_type": "stream",
          "name": "stdout",
          "text": [
            "True\n",
            "False\n",
            "False\n",
            "True\n"
          ]
        }
      ]
    },
    {
      "cell_type": "code",
      "source": [
        "print(3==3)\n",
        "print(4==2)\n",
        "print(3+4==7)\n",
        "print(1!=3)\n",
        "print(not(1!=3))"
      ],
      "metadata": {
        "colab": {
          "base_uri": "https://localhost:8080/"
        },
        "id": "bvJUQ0U4QaSc",
        "outputId": "d7f23b8b-4e1e-4cd0-db1a-b10601c90427"
      },
      "execution_count": null,
      "outputs": [
        {
          "output_type": "stream",
          "name": "stdout",
          "text": [
            "True\n",
            "False\n",
            "True\n",
            "True\n",
            "False\n"
          ]
        }
      ]
    },
    {
      "cell_type": "code",
      "source": [
        " print(3>0 and (3<5))\n",
        " print(3>0 & (3<5))\n",
        "\n",
        " print(3>0 or (3>5))\n",
        " print(3>0 | (3>5))\n",
        "\n",
        " print(5>4>3)\n",
        " print(5>4>7)"
      ],
      "metadata": {
        "colab": {
          "base_uri": "https://localhost:8080/"
        },
        "id": "Ap4eYM3KQgyt",
        "outputId": "84f699ef-9ee7-4146-d638-b1c9a574b477"
      },
      "execution_count": null,
      "outputs": [
        {
          "output_type": "stream",
          "name": "stdout",
          "text": [
            "True\n",
            "True\n",
            "True\n",
            "True\n",
            "True\n",
            "False\n"
          ]
        }
      ]
    },
    {
      "cell_type": "markdown",
      "source": [
        "### 간단한 수식"
      ],
      "metadata": {
        "id": "gME5qu_bQfPB"
      }
    },
    {
      "cell_type": "code",
      "source": [
        "print(2+3*4)\n",
        "print((2+3)*4)\n",
        "number = 2+3*4\n",
        "print(number)\n",
        "number = number + 2\n",
        "print(number)\n",
        "number += 2\n",
        "print(number)\n",
        "number *= 2\n",
        "print(number)\n",
        "number /= 2\n",
        "print(number)\n",
        "number -= 2\n",
        "print(number)\n",
        "number %= 5\n",
        "print(number)\n",
        "number %=2\n",
        "print( number)"
      ],
      "metadata": {
        "colab": {
          "base_uri": "https://localhost:8080/"
        },
        "id": "ad9t2IOOQOBF",
        "outputId": "426cb2df-c0bf-460a-d671-67c0058d1062"
      },
      "execution_count": 5,
      "outputs": [
        {
          "output_type": "stream",
          "name": "stdout",
          "text": [
            "14\n",
            "20\n",
            "14\n",
            "16\n",
            "18\n",
            "36\n",
            "18.0\n",
            "16.0\n",
            "1.0\n",
            "1.0\n"
          ]
        }
      ]
    },
    {
      "cell_type": "markdown",
      "source": [
        "### 숫자처리함수"
      ],
      "metadata": {
        "id": "qmE-MC6fUl5p"
      }
    },
    {
      "cell_type": "code",
      "source": [
        "print(abs(-5))\n",
        "print(pow(4,2))\n",
        "print(max(5, 12))\n",
        "print(min(5,12))\n",
        "print(round (3.14))\n",
        "print(round (4.99))\n",
        "\n",
        "from math import *\n",
        "print(floor(4.99)) #내림\n",
        "print(ceil(3.14)) #올림\n",
        "print(sqrt(16)) #제곱근"
      ],
      "metadata": {
        "colab": {
          "base_uri": "https://localhost:8080/"
        },
        "id": "eo--SRUdt5OV",
        "outputId": "d75cedce-4120-4af0-8176-1c586398135c"
      },
      "execution_count": 11,
      "outputs": [
        {
          "output_type": "stream",
          "name": "stdout",
          "text": [
            "5\n",
            "16\n",
            "12\n",
            "5\n",
            "3\n",
            "5\n",
            "4\n",
            "4\n",
            "4.0\n"
          ]
        }
      ]
    },
    {
      "cell_type": "markdown",
      "source": [
        "### 랜덤함수"
      ],
      "metadata": {
        "id": "ShNDazBOuKyU"
      }
    },
    {
      "cell_type": "code",
      "source": [
        "from random import *\n",
        "print(random())\n",
        "print(random())\n",
        "print(random())\n",
        "print(random())\n",
        "print(int(random()*10))\n",
        "print(int(random()*10))\n",
        "print(int(random()*10)+1)\n",
        "print(int(random()*10)+1)\n",
        "print(int(random()*10)+1)\n",
        "print(int(random()*10)+1)\n",
        "\n",
        "print(int(random() * 45 )+1)\n",
        "print(int(random() * 45 )+1)\n",
        "print(int(random() * 45 )+1)\n",
        "print(int(random() * 45 )+1)\n",
        "print(int(random() * 45 )+1)"
      ],
      "metadata": {
        "colab": {
          "base_uri": "https://localhost:8080/"
        },
        "id": "cghwCpw9wyDP",
        "outputId": "5481e40e-05ff-4329-97d0-6f9f1dfcf027"
      },
      "execution_count": 16,
      "outputs": [
        {
          "output_type": "stream",
          "name": "stdout",
          "text": [
            "0.9750194641495494\n",
            "0.8520608814027183\n",
            "0.9275359859108487\n",
            "0.6956103788418081\n",
            "0\n",
            "9\n",
            "8\n",
            "9\n",
            "7\n",
            "9\n",
            "45\n",
            "3\n",
            "5\n",
            "15\n",
            "16\n"
          ]
        }
      ]
    },
    {
      "cell_type": "code",
      "source": [
        "print (randrange(1,46))\n",
        "print (randrange(1,46))\n",
        "print (randrange(1,46))\n",
        "print (randrange(1,46))\n",
        "print (randrange(1,46))\n",
        "print (randrange(1,46))"
      ],
      "metadata": {
        "colab": {
          "base_uri": "https://localhost:8080/"
        },
        "id": "U5QoSltKxHJC",
        "outputId": "e042bccf-d169-49f5-a02b-0283b971990e"
      },
      "execution_count": 18,
      "outputs": [
        {
          "output_type": "stream",
          "name": "stdout",
          "text": [
            "10\n",
            "15\n",
            "41\n",
            "45\n",
            "35\n",
            "4\n"
          ]
        }
      ]
    },
    {
      "cell_type": "code",
      "source": [
        "print(randint(1,45))\n",
        "print(randint(1,45))\n",
        "print(randint(1,45))\n",
        "print(randint(1,45))\n",
        "print(randint(1,45))\n",
        "print(randint(1,45))\n"
      ],
      "metadata": {
        "colab": {
          "base_uri": "https://localhost:8080/"
        },
        "id": "rudin4qzx4lH",
        "outputId": "4694269f-a919-4529-ccfe-cd0c586097fc"
      },
      "execution_count": 19,
      "outputs": [
        {
          "output_type": "stream",
          "name": "stdout",
          "text": [
            "43\n",
            "18\n",
            "25\n",
            "25\n",
            "19\n",
            "6\n"
          ]
        }
      ]
    },
    {
      "cell_type": "code",
      "source": [
        "# Quiz) 당신은 최근에 코딩 스터디 모임을 새로 만들었습니다.\n",
        "# 월 4회 스터디를 하는데 3번은 온라인으로 하고 1번은\n",
        "# 오프라인으로 하기로 했습니다.\n",
        "# 아래 조건에 맞는 오프라인 모임 날짜를 정해주는 프로그램을 작성하시오.\n",
        "\n",
        "# 조건 1 : 랜덤으로 날짜를 뽑아야 함.\n",
        "# 조건 2 : 월별 날짜는 다름을 감안하여 최소 일수인 28 이내로 정함.\n",
        "# 조건 3 : 매월 1~3일은 스터디 준비를 해야 하므로 제외\n",
        "\n",
        "from random import *\n",
        "date = randint(4,28)\n",
        "print(\"오프라인 스터디 모임 날짜는 매월\" + str(date) + \"일로 선정되었습니다.\")"
      ],
      "metadata": {
        "colab": {
          "base_uri": "https://localhost:8080/"
        },
        "id": "SxB16z9kyC9f",
        "outputId": "8ed3fcdc-0283-4d76-e2eb-ed88d72c058e"
      },
      "execution_count": 22,
      "outputs": [
        {
          "output_type": "stream",
          "name": "stdout",
          "text": [
            "오프라인 스터디 모임 날짜는 매월11일로 선정되었습니다.\n"
          ]
        }
      ]
    }
  ]
}