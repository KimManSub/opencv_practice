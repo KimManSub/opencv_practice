{
  "cells": [
    {
      "cell_type": "code",
      "execution_count": 1,
      "metadata": {
        "colab": {
          "base_uri": "https://localhost:8080/"
        },
        "id": "z72a-x12CCmP",
        "outputId": "1d41b010-bd2f-4b6c-890a-7206339193f9"
      },
      "outputs": [
        {
          "name": "stdout",
          "output_type": "stream",
          "text": [
            "--2024-12-18 01:58:13--  https://raw.githubusercontent.com/Cobslab/imageBible/main/image/like_lenna224.png\n",
            "Resolving raw.githubusercontent.com (raw.githubusercontent.com)... 185.199.111.133, 185.199.109.133, 185.199.110.133, ...\n",
            "Connecting to raw.githubusercontent.com (raw.githubusercontent.com)|185.199.111.133|:443... connected.\n",
            "HTTP request sent, awaiting response... 200 OK\n",
            "Length: 30283 (30K) [image/png]\n",
            "Saving to: ‘like_lenna.png’\n",
            "\n",
            "\rlike_lenna.png        0%[                    ]       0  --.-KB/s               \rlike_lenna.png      100%[===================>]  29.57K  --.-KB/s    in 0.004s  \n",
            "\n",
            "2024-12-18 01:58:13 (7.70 MB/s) - ‘like_lenna.png’ saved [30283/30283]\n",
            "\n"
          ]
        }
      ],
      "source": [
        "!wget https://raw.githubusercontent.com/Cobslab/imageBible/main/image/like_lenna224.png -O like_lenna.png"
      ]
    },
    {
      "cell_type": "code",
      "execution_count": 2,
      "metadata": {
        "colab": {
          "base_uri": "https://localhost:8080/"
        },
        "id": "LDAdoRJjCtU_",
        "outputId": "6f12ae94-8cf3-4495-ba30-6684d327bd37"
      },
      "outputs": [
        {
          "name": "stdout",
          "output_type": "stream",
          "text": [
            "이미지를 읽어왔습니다.\n",
            "변수 타입: <class 'numpy.ndarray'>\n"
          ]
        }
      ],
      "source": [
        "import cv2 #\n",
        "\n",
        "image = cv2.imread('like_lenna.png', cv2.IMREAD_GRAYSCALE)\n",
        "if image is not None:\n",
        "    print(\"이미지를 읽어왔습니다.\")\n",
        "else:\n",
        "    print(\"이미지를 읽어오지 못했습니다.\")\n",
        "print(f\"변수 타입: {type(image)}\")\n"
      ]
    }
  ],
  "metadata": {
    "colab": {
      "provenance": []
    },
    "kernelspec": {
      "display_name": "Python 3",
      "name": "python3"
    },
    "language_info": {
      "name": "python"
    }
  },
  "nbformat": 4,
  "nbformat_minor": 0
}
