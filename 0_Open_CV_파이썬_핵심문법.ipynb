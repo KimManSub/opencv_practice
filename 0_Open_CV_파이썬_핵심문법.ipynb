{
  "nbformat": 4,
  "nbformat_minor": 0,
  "metadata": {
    "colab": {
      "provenance": [],
      "authorship_tag": "ABX9TyPHqPWIaFSEUUemV076Wen+",
      "include_colab_link": true
    },
    "kernelspec": {
      "name": "python3",
      "display_name": "Python 3"
    },
    "language_info": {
      "name": "python"
    }
  },
  "cells": [
    {
      "cell_type": "markdown",
      "metadata": {
        "id": "view-in-github",
        "colab_type": "text"
      },
      "source": [
        "<a href=\"https://colab.research.google.com/github/KimManSub/opencv_practice/blob/main/0_Open_CV_%ED%8C%8C%EC%9D%B4%EC%8D%AC_%ED%95%B5%EC%8B%AC%EB%AC%B8%EB%B2%95.ipynb\" target=\"_parent\"><img src=\"https://colab.research.google.com/assets/colab-badge.svg\" alt=\"Open In Colab\"/></a>"
      ]
    },
    {
      "cell_type": "code",
      "execution_count": null,
      "metadata": {
        "id": "L16Xz5bRexwO"
      },
      "outputs": [],
      "source": [
        "# 변수 선언 정수(int)\n",
        "\n",
        "a = 10"
      ]
    },
    {
      "cell_type": "code",
      "source": [
        "# 부동 소수점(float)\n",
        "\n",
        "b = 3.14"
      ],
      "metadata": {
        "id": "P4g8NPc1fkhG"
      },
      "execution_count": null,
      "outputs": []
    },
    {
      "cell_type": "code",
      "source": [
        "# 문자열\n",
        "\n",
        "s = \"Hello, World!\""
      ],
      "metadata": {
        "id": "sPsmIcg3fmgu"
      },
      "execution_count": null,
      "outputs": []
    },
    {
      "cell_type": "code",
      "source": [
        "radius = 5  # 정수형\n",
        "pi = 3.14   # 실수형\n",
        "area = pi * radius ** 2  # 원의 넓이 계산\n",
        "print(area)"
      ],
      "metadata": {
        "id": "HbH8kEUyfom4"
      },
      "execution_count": null,
      "outputs": []
    },
    {
      "cell_type": "code",
      "source": [
        "name = \"Alice\" # 문자열\n",
        "greeting = \"안녕하세요, {}!\".format(name) # 문자열 형식 지정\n",
        "print(greeting)"
      ],
      "metadata": {
        "id": "H7VPjHtpftPH"
      },
      "execution_count": null,
      "outputs": []
    },
    {
      "cell_type": "code",
      "source": [
        "number = -10 # 정수\n",
        "is_positive = number > 0 # 불\n",
        "print(is_positive)"
      ],
      "metadata": {
        "id": "CbXGwWmZfun7"
      },
      "execution_count": null,
      "outputs": []
    },
    {
      "cell_type": "code",
      "source": [
        "# 산술 연산자\n",
        "\n",
        "a = 10\n",
        "b = 3\n",
        "c = a + b    # 더하기, c에 계산 결과 13 저장\n",
        "d = a - b    # 빼기, c에 계산 결과 7 저장\n",
        "e = a * b    # 곱하기, e에 계산 결과 30 저장\n",
        "f = a / b    # 나누기, f에 계산 결과 3.333..저장\n",
        "g = a % b    # 나누기 후 나머지 구하기, g에 계산 결과 1 저장\n",
        "h = a // b   # 정수 나누기, h에 계산 결과 3 저장\n",
        "i = a ** b   # 지수화, i에 1000 저장"
      ],
      "metadata": {
        "id": "XGWkuRMQfwVP"
      },
      "execution_count": null,
      "outputs": []
    },
    {
      "cell_type": "code",
      "source": [
        "# 비교 연산자\n",
        "\n",
        "j = a == b  # 같음\n",
        "k = a != b  # 같지 않음\n",
        "l = a < b   # 보다 작음\n",
        "m = a > b   # 보다 큼\n",
        "n = a <= b  # 다음보다 작거나 같음\n",
        "o = a >= b  # 다음보다 크거나 같음"
      ],
      "metadata": {
        "id": "oYL8zY3sfxpH"
      },
      "execution_count": null,
      "outputs": []
    },
    {
      "cell_type": "code",
      "source": [
        "# 논리 연산자\n",
        "\n",
        "p = True\n",
        "q = False\n",
        "r = p and q  # logical AND r에는 False가 저장\n",
        "s = p or q   # logical OR s에는 True가 저장\n",
        "t = not p    # logical NOT not에는 False가 저장"
      ],
      "metadata": {
        "id": "rGNcClj8fyvT"
      },
      "execution_count": null,
      "outputs": []
    },
    {
      "cell_type": "code",
      "source": [
        "# 할당 연산자\n",
        "\n",
        "a += 3   # a = a + 3과 같음\n",
        "a -= 3   # a = a - 3과 같음\n",
        "a *= 3   # a = a * 3과 같음\n",
        "a /= 3   # a = a / 3과 같음\n",
        "a %= 3   # a = a % 3과 같음\n",
        "a //= 3  # a = a // 3과 같음\n",
        "a **= 3  # a = a ** 3과 같음"
      ],
      "metadata": {
        "id": "x-Dw-aS7f0Gx"
      },
      "execution_count": null,
      "outputs": []
    },
    {
      "cell_type": "code",
      "source": [
        "# if 문\n",
        "\n",
        "a = 10\n",
        "if a > 0:\n",
        "    print('a는 양수입니다')\n",
        "elif a < 0:\n",
        "    print('a는 음수입니다')\n",
        "else:\n",
        "    print('a는 0입니다')\n"
      ],
      "metadata": {
        "colab": {
          "base_uri": "https://localhost:8080/"
        },
        "id": "pcyAdU3ef1XC",
        "outputId": "0c5e1d35-c27c-4782-9bfb-29ee8f0f43b8"
      },
      "execution_count": null,
      "outputs": [
        {
          "output_type": "stream",
          "name": "stdout",
          "text": [
            "a는 양수입니다\n"
          ]
        }
      ]
    },
    {
      "cell_type": "code",
      "source": [
        "# for 문\n",
        "\n",
        "n = 5\n",
        "factorial = 1\n",
        "for i in range(1, n + 1):\n",
        "    factorial *= i\n",
        "    print(factorial)"
      ],
      "metadata": {
        "colab": {
          "base_uri": "https://localhost:8080/"
        },
        "id": "XoA8Seuzf-hj",
        "outputId": "b6bdc66d-88a8-49f1-8de7-9a6b6a9827f3"
      },
      "execution_count": null,
      "outputs": [
        {
          "output_type": "stream",
          "name": "stdout",
          "text": [
            "1\n",
            "2\n",
            "6\n",
            "24\n",
            "120\n"
          ]
        }
      ]
    },
    {
      "cell_type": "code",
      "source": [
        "\n",
        "# while 문\n",
        "\n",
        "n = 10\n",
        "a, b = 0, 1\n",
        "while a < n:\n",
        "    print(a, end=' ')\n",
        "    a, b = b, a + b"
      ],
      "metadata": {
        "colab": {
          "base_uri": "https://localhost:8080/"
        },
        "id": "A4EMthyygiwR",
        "outputId": "3cb3c3c4-4349-49c8-c294-74b79de70508"
      },
      "execution_count": null,
      "outputs": [
        {
          "output_type": "stream",
          "name": "stdout",
          "text": [
            "0 1 1 2 3 5 8 "
          ]
        }
      ]
    },
    {
      "cell_type": "code",
      "source": [
        "# try-exception 문\n",
        "\n",
        "try:\n",
        "    print(x)\n",
        "except:\n",
        "    print('예외가 발생했습니다')"
      ],
      "metadata": {
        "colab": {
          "base_uri": "https://localhost:8080/"
        },
        "id": "uYPwozTPgnlt",
        "outputId": "bc5c7b75-871e-47fe-aff4-1507502524c3"
      },
      "execution_count": null,
      "outputs": [
        {
          "output_type": "stream",
          "name": "stdout",
          "text": [
            "예외가 발생했습니다\n"
          ]
        }
      ]
    },
    {
      "cell_type": "code",
      "source": [
        "# finally 문\n",
        "\n",
        "try:\n",
        "    print(x)\n",
        "except:\n",
        "    print('예외가 발생했습니다')\n",
        "finally:\n",
        "    print('try-except 블록이 완료되었습니다')\n",
        "\n",
        "#오류 발생 여부와 관계없이 싱핼될 코드 블록을 지정"
      ],
      "metadata": {
        "colab": {
          "base_uri": "https://localhost:8080/"
        },
        "id": "sgv1BR9j8p-R",
        "outputId": "b56610ba-fef8-44cf-dc48-b8254b7b92e9"
      },
      "execution_count": null,
      "outputs": [
        {
          "output_type": "stream",
          "name": "stdout",
          "text": [
            "예외가 발생했습니다\n",
            "try-except 블록이 완료되었습니다\n"
          ]
        }
      ]
    },
    {
      "cell_type": "code",
      "source": [
        "# 함수 기본형\n",
        "\n",
        "def greet():\n",
        "    print('Hello, World!')\n",
        "\n",
        "greet()"
      ],
      "metadata": {
        "colab": {
          "base_uri": "https://localhost:8080/"
        },
        "id": "OVwu0K0q856x",
        "outputId": "24e10993-ef92-4ec9-ac9c-458aa4687e80"
      },
      "execution_count": null,
      "outputs": [
        {
          "output_type": "stream",
          "name": "stdout",
          "text": [
            "Hello, World!\n"
          ]
        }
      ]
    },
    {
      "cell_type": "code",
      "source": [
        "# 반환 값이 존재하는 함수 1\n",
        "\n",
        "def greet(name):\n",
        "    print(f'Hello, {name}!')\n",
        "\n",
        "greet('Alice')"
      ],
      "metadata": {
        "colab": {
          "base_uri": "https://localhost:8080/"
        },
        "id": "mx3GD4RG8-wc",
        "outputId": "60241102-aa3e-4f5e-d355-7ad2f4ce808a"
      },
      "execution_count": null,
      "outputs": [
        {
          "output_type": "stream",
          "name": "stdout",
          "text": [
            "Hello, Alice!\n"
          ]
        }
      ]
    },
    {
      "cell_type": "code",
      "source": [
        " # 반환 값이 존재하는 함수 2\n",
        "\n",
        "def square(number):\n",
        "    return number ** 2\n",
        "\n",
        "print(square(5))"
      ],
      "metadata": {
        "colab": {
          "base_uri": "https://localhost:8080/"
        },
        "id": "-EqGt4jZ9mwU",
        "outputId": "6a9e6607-0518-4ed9-dd05-52bade0d526f"
      },
      "execution_count": null,
      "outputs": [
        {
          "output_type": "stream",
          "name": "stdout",
          "text": [
            "25\n"
          ]
        }
      ]
    },
    {
      "cell_type": "code",
      "source": [
        "# 반환 값이 존재하는 함수 3\n",
        "\n",
        "def greet(name, greeting='안녕하세요'):\n",
        "    print(f'{greeting}, {name}!')\n",
        "\n",
        "greet('앨리스')\n",
        "# 별 말 없으면 안녕하세요 기본, 네임\n",
        "greet('밥', '좋은 저녁')\n",
        "# 처음은 기존 들어갈 문장, 그다음 언급있는 문장으로 입력됨"
      ],
      "metadata": {
        "colab": {
          "base_uri": "https://localhost:8080/"
        },
        "id": "Ldh-FqdN-Jv2",
        "outputId": "3ff1f43f-7a95-46fc-d20c-8ed57b980e19"
      },
      "execution_count": null,
      "outputs": [
        {
          "output_type": "stream",
          "name": "stdout",
          "text": [
            "안녕하세요, 앨리스!\n",
            "좋은 저녁, 밥!\n"
          ]
        }
      ]
    },
    {
      "cell_type": "code",
      "source": [
        "# 클래스 기본형\n",
        "\n",
        "class Dog:\n",
        "    def __init__(self, name, breed, age):\n",
        "        self.name = name\n",
        "        self.breed = breed\n",
        "        self.age = age\n",
        "\n",
        "    def bark(self):\n",
        "        print(f\"{self.name}가 왈왈 짖습니다\")\n",
        "\n",
        "    def eat(self, food):\n",
        "        print(f\"{self.name}가 {food}을 먹습니다.\")\n",
        "\n",
        "    def sleep(self):\n",
        "        print(f\"{self.name}가 자고 있습니다.\")\n",
        "\n",
        "    def get_age(self):  # age 메서드를 get_age로 변경\n",
        "        print(f\"{self.name}가 {self.age}살 입니다.\")\n",
        "\n",
        "\n",
        "my_dog = Dog(\"Rex\", \"German Shepherd\", 5)\n",
        "\n",
        "my_dog.bark()\n",
        "#bark 함수 사용\n",
        "my_dog.eat(\"음식\")\n",
        "#eat함수 이름,food=음식\n",
        "my_dog.sleep()\n",
        "#sleep 함수 이름\n",
        "my_dog.get_age()  # \"Rex가 5살 입니다.\""
      ],
      "metadata": {
        "colab": {
          "base_uri": "https://localhost:8080/"
        },
        "id": "BAu_RyvN-K0q",
        "outputId": "bce674f4-f613-4b5d-e60e-91340b6562c8"
      },
      "execution_count": null,
      "outputs": [
        {
          "output_type": "stream",
          "name": "stdout",
          "text": [
            "Rex가 왈왈 짖습니다\n",
            "Rex가 음식을 먹습니다.\n",
            "Rex가 자고 있습니다.\n",
            "Rex가 5살 입니다.\n"
          ]
        }
      ]
    },
    {
      "cell_type": "code",
      "source": [
        "class Car:\n",
        "    def __init__(self, make, model, year):\n",
        "        self.make = make #브랜드\n",
        "        self.model = model #모델\n",
        "        self.year = year #년도\n",
        "        self.__mileage = 0 # private attribute (주행거리 클래스 외부에서 접근 불가로 언더스코어 __ 붙임)\n",
        "\n",
        "    def drive(self, miles):\n",
        "        if miles > 0:\n",
        "            self.__mileage += miles\n",
        "        else:\n",
        "            print(\"0보다 커야 합니다!\")\n",
        "\n",
        "    def get_mileage(self):\n",
        "        return self.__mileage\n",
        "\n",
        "my_car = Car(\"Toyota\", \"Camry\", 2020)  # 자동차 객체 생성\n",
        "my_car.drive(100)  # 100마일 주행\n",
        "print(my_car.get_mileage())  # 100 출력\n",
        "\n",
        "my_car.drive(-50)  # 잘못된 주행 거리 입력\n",
        "print(my_car.get_mileage())  # 여전히 100 출력 (주행 거리 증가 안 됨)\n",
        "\n",
        "print(my_car.make)  # Toyota 출력\n",
        "print(my_car.model)  # Camry 출력\n",
        "print(my_car.year)\n"
      ],
      "metadata": {
        "colab": {
          "base_uri": "https://localhost:8080/"
        },
        "id": "KWXaTlZVGGhw",
        "outputId": "12a7528d-8c0c-42b6-d5bc-93b71f39f8fc"
      },
      "execution_count": null,
      "outputs": [
        {
          "output_type": "stream",
          "name": "stdout",
          "text": [
            "100\n",
            "0보다 커야 합니다!\n",
            "100\n",
            "Toyota\n",
            "Camry\n",
            "2020\n"
          ]
        }
      ]
    },
    {
      "cell_type": "code",
      "source": [
        "  # 부모 클래스\n",
        "class Car:\n",
        "    def __init__(self, make, model, year):\n",
        "        self.make = make\n",
        "        self.model = model\n",
        "        self.year = year\n",
        "\n",
        "    def bark(self):\n",
        "        print(f\"{self.make} 차량이 경적을 울립니다!\")\n",
        "\n",
        "# 자식 클래스\n",
        "class ElectricCar(Car):\n",
        "    def __init__(self, make, model, year, battery_size):\n",
        "        super().__init__(make, model, year)\n",
        "        self.battery_size = battery_size\n",
        "\n",
        "    def charge(self):\n",
        "        print(\"The car is charging.\")\n",
        "\n",
        "# 객체 생성 및 메서드 호출\n",
        "my_electric_car = ElectricCar(\"Tesla\", \"Model S\", 2022, 100)\n",
        "my_electric_car.bark()       # Car 클래스의 bark 메서드 호출\n",
        "my_electric_car.charge()     # ElectricCar 클래스의 charge 메서드 호출\n"
      ],
      "metadata": {
        "colab": {
          "base_uri": "https://localhost:8080/"
        },
        "id": "Qsoc1elvMxit",
        "outputId": "2344d92c-4784-425a-ec02-b09c6c78b3cd"
      },
      "execution_count": null,
      "outputs": [
        {
          "output_type": "stream",
          "name": "stdout",
          "text": [
            "Tesla 차량이 경적을 울립니다!\n",
            "The car is charging.\n"
          ]
        }
      ]
    },
    {
      "cell_type": "code",
      "source": [
        "class Animal:\n",
        "    def eat(self):\n",
        "        print(\"먹고 있습니다.\")\n",
        "    def sleep(self):\n",
        "        print(\"자고 있습니다.\")\n",
        "\n",
        "class Dog(Animal):  # Dog 클래스는 Animal 클래스를 상속받음\n",
        "    def bark(self):\n",
        "        print(\"왈왈!\")\n",
        "\n",
        "class Cat(Animal):  # Cat 클래스도 Animal 클래스를 상속받음\n",
        "    def meow(self):\n",
        "        print(\"야옹!\")"
      ],
      "metadata": {
        "id": "46akNBZCN7qU"
      },
      "execution_count": null,
      "outputs": []
    },
    {
      "cell_type": "code",
      "source": [
        "# 객체 생성\n",
        "dog = Dog()  # Dog 객체 생성\n",
        "cat = Cat()  # Cat 객체 생성"
      ],
      "metadata": {
        "id": "jbKSlPL8Owz1"
      },
      "execution_count": null,
      "outputs": []
    },
    {
      "cell_type": "code",
      "source": [
        "# Dog 클래스 메서드 호출\n",
        "dog.eat()    # Animal 클래스에서 상속받은 메서드\n",
        "dog.sleep()  # Animal 클래스에서 상속받은 메서드\n",
        "dog.bark()   # Dog 클래스의 고유 메서드"
      ],
      "metadata": {
        "colab": {
          "base_uri": "https://localhost:8080/"
        },
        "id": "AxS13ji-Oyml",
        "outputId": "f5313af0-c7e5-48c0-e0cb-48c4add6af02"
      },
      "execution_count": null,
      "outputs": [
        {
          "output_type": "stream",
          "name": "stdout",
          "text": [
            "먹고 있습니다.\n",
            "자고 있습니다.\n",
            "왈왈!\n"
          ]
        }
      ]
    },
    {
      "cell_type": "code",
      "source": [
        "# Cat 클래스 메서드 호출\n",
        "cat.eat()    # Animal 클래스에서 상속받은 메서드\n",
        "cat.sleep()  # Animal 클래스에서 상속받은 메서드\n",
        "cat.meow()   # Cat 클래스의 고유 메서드"
      ],
      "metadata": {
        "colab": {
          "base_uri": "https://localhost:8080/"
        },
        "id": "8sj1w_fjO5Zr",
        "outputId": "414710c9-8d2b-46b7-c359-3624c020b57c"
      },
      "execution_count": null,
      "outputs": [
        {
          "output_type": "stream",
          "name": "stdout",
          "text": [
            "먹고 있습니다.\n",
            "자고 있습니다.\n",
            "야옹!\n"
          ]
        }
      ]
    },
    {
      "cell_type": "code",
      "source": [
        "# 다형성\n",
        "\n",
        "class Pet:\n",
        "    def make_sound(self):\n",
        "        pass\n",
        "\n",
        "class Dog(Pet):\n",
        "    def make_sound(self):\n",
        "        print(\"왈왈\")\n",
        "\n",
        "class Cat(Pet):\n",
        "    def make_sound(self):\n",
        "        print(\"야옹\")\n",
        "\n",
        "def pet_sound(pet: Pet):\n",
        "    pet.make_sound()\n",
        "\n",
        "dog = Dog()\n",
        "cat = Cat()\n",
        "\n",
        "pet_sound(dog)\n",
        "pet_sound(cat)"
      ],
      "metadata": {
        "colab": {
          "base_uri": "https://localhost:8080/"
        },
        "id": "dajsNJwOH5rP",
        "outputId": "93673615-74e2-48b6-8618-cd94111b858c"
      },
      "execution_count": null,
      "outputs": [
        {
          "output_type": "stream",
          "name": "stdout",
          "text": [
            "왈왈\n",
            "야옹\n"
          ]
        }
      ]
    },
    {
      "cell_type": "code",
      "source": [
        "# 기본 클래스\n",
        "class Vehicle:\n",
        "    def move(self):\n",
        "        pass  # 기본적으로 탈것은 움직인다, 하지만 구체적인 움직임은 각 클래스에서 정의\n",
        "\n",
        "# 자동차 클래스\n",
        "class Car(Vehicle):\n",
        "    def move(self):\n",
        "        print(\"자동차가 도로를 달립니다.\")\n",
        "\n",
        "# 자전거 클래스\n",
        "class Bicycle(Vehicle):\n",
        "    def move(self):\n",
        "        print(\"자전거가 자전거 도로를 달립니다.\")\n",
        "\n",
        "# 탈것의 동작을 실행하는 함수\n",
        "def vehicle_move(vehicle: Vehicle): #vehicle: Vehicle는 힌트힘 없어도 코드 동작은 함\n",
        "    vehicle.move()\n",
        "\n",
        "# 객체 생성\n",
        "car = Car()\n",
        "bicycle = Bicycle()\n",
        "\n",
        "# 함수 호출\n",
        "vehicle_move(car)      # 자동차의 동작\n",
        "vehicle_move(bicycle)  # 자전거의 동작\n"
      ],
      "metadata": {
        "colab": {
          "base_uri": "https://localhost:8080/"
        },
        "id": "JyVePGTYRUgW",
        "outputId": "a1abd4b2-f46c-4e95-8921-751efe7b7391"
      },
      "execution_count": null,
      "outputs": [
        {
          "output_type": "stream",
          "name": "stdout",
          "text": [
            "자동차가 도로를 달립니다.\n",
            "자전거가 자전거 도로를 달립니다.\n"
          ]
        }
      ]
    },
    {
      "cell_type": "code",
      "source": [
        "# 기본 클래스\n",
        "class Vehicle:\n",
        "    def move(self):\n",
        "        pass  # 기본적으로 탈것은 움직인다, 하지만 구체적인 움직임은 각 클래스에서 정의\n",
        "\n",
        "# 자동차 클래스\n",
        "class Car(Vehicle):\n",
        "    def move(self):\n",
        "        print(\"자동차가 도로를 달립니다.\")\n",
        "\n",
        "# 자전거 클래스\n",
        "class Bicycle(Vehicle):\n",
        "    def move(self):\n",
        "        print(\"자전거가 자전거 도로를 달립니다.\")\n",
        "\n",
        "# 탈것의 동작을 실행하는 함수\n",
        "def vehicle_move(vehicle):\n",
        "    vehicle.move()\n",
        "\n",
        "# 객체 생성\n",
        "car = Car()\n",
        "bicycle = Bicycle()\n",
        "\n",
        "# 함수 호출\n",
        "vehicle_move(car)      # 자동차의 동작\n",
        "vehicle_move(bicycle)  # 자전거의 동작"
      ],
      "metadata": {
        "colab": {
          "base_uri": "https://localhost:8080/"
        },
        "id": "ABpYwJohTPMR",
        "outputId": "77cf5d62-7e5f-4547-fdf2-bfdea7495342"
      },
      "execution_count": null,
      "outputs": [
        {
          "output_type": "stream",
          "name": "stdout",
          "text": [
            "자동차가 도로를 달립니다.\n",
            "자전거가 자전거 도로를 달립니다.\n"
          ]
        }
      ]
    },
    {
      "cell_type": "code",
      "source": [
        "%%writefile math_operations.py\n",
        "\n",
        "def add(x, y):\n",
        "    return x + y\n",
        "\n",
        "def subtract(x, y):\n",
        "    return x - y\n",
        "\n",
        "def multiply(x, y):\n",
        "    return x * y\n",
        "\n",
        "def divide(x, y):\n",
        "    if y != 0:\n",
        "        return x / y\n",
        "    else:\n",
        "        print(\"에러: 0으로 나눌 수 없습니다\")"
      ],
      "metadata": {
        "colab": {
          "base_uri": "https://localhost:8080/"
        },
        "id": "ki42YTnsUAon",
        "outputId": "02b363e8-cab7-4ff2-a52c-79d4be668881"
      },
      "execution_count": null,
      "outputs": [
        {
          "output_type": "stream",
          "name": "stdout",
          "text": [
            "Writing math_operations.py\n"
          ]
        }
      ]
    },
    {
      "cell_type": "code",
      "source": [
        "!cat math_operations.py"
      ],
      "metadata": {
        "colab": {
          "base_uri": "https://localhost:8080/"
        },
        "id": "gRqp1xGAURaH",
        "outputId": "332772f3-d48d-4263-944a-816b6f67a52f"
      },
      "execution_count": null,
      "outputs": [
        {
          "output_type": "stream",
          "name": "stdout",
          "text": [
            "cat: math_operations.py: No such file or directory\n"
          ]
        }
      ]
    },
    {
      "cell_type": "code",
      "source": [
        "from math_operations import add, subtract, multiply, divide"
      ],
      "metadata": {
        "id": "ra_TMZ3cUkgk"
      },
      "execution_count": null,
      "outputs": []
    },
    {
      "cell_type": "code",
      "source": [
        "print(add(2, 3))        # 5\n",
        "print(subtract(5, 1))   # 4\n",
        "print(multiply(4, 3))   # 12\n",
        "print(divide(10, 2))    # 5.0\n",
        "print(divide(10, 0))    # \"에러: 0으로 나눌 수 없습니다\""
      ],
      "metadata": {
        "colab": {
          "base_uri": "https://localhost:8080/"
        },
        "id": "Wm2xZT63UUIE",
        "outputId": "ed738ae0-405f-44bf-b1a8-ec088598ec9d"
      },
      "execution_count": null,
      "outputs": [
        {
          "output_type": "stream",
          "name": "stdout",
          "text": [
            "5\n",
            "4\n",
            "12\n",
            "5.0\n",
            "에러: 0으로 나눌 수 없습니다\n",
            "None\n"
          ]
        }
      ]
    },
    {
      "cell_type": "code",
      "source": [
        "from google.colab import drive\n",
        "drive.mount('/content/drive')\n",
        "\n",
        "# Google Drive에 파일 저장\n",
        "!mv math_operations.py /content/drive/MyDrive/\n"
      ],
      "metadata": {
        "colab": {
          "base_uri": "https://localhost:8080/"
        },
        "id": "FGKvgpe4Uunp",
        "outputId": "93a8ca2c-44a5-417b-d366-85ad1a809196"
      },
      "execution_count": null,
      "outputs": [
        {
          "output_type": "stream",
          "name": "stdout",
          "text": [
            "Mounted at /content/drive\n"
          ]
        }
      ]
    },
    {
      "cell_type": "code",
      "source": [
        "from google.colab import files\n",
        "files.download('math_operations.py')"
      ],
      "metadata": {
        "colab": {
          "base_uri": "https://localhost:8080/",
          "height": 295
        },
        "id": "ZZN5amjFUzsI",
        "outputId": "b32ae75f-6898-4a61-ecde-362aba2ad800"
      },
      "execution_count": null,
      "outputs": [
        {
          "output_type": "error",
          "ename": "FileNotFoundError",
          "evalue": "Cannot find file: math_operations.py",
          "traceback": [
            "\u001b[0;31m---------------------------------------------------------------------------\u001b[0m",
            "\u001b[0;31mFileNotFoundError\u001b[0m                         Traceback (most recent call last)",
            "\u001b[0;32m<ipython-input-73-6afa1ffda38b>\u001b[0m in \u001b[0;36m<cell line: 2>\u001b[0;34m()\u001b[0m\n\u001b[1;32m      1\u001b[0m \u001b[0;32mfrom\u001b[0m \u001b[0mgoogle\u001b[0m\u001b[0;34m.\u001b[0m\u001b[0mcolab\u001b[0m \u001b[0;32mimport\u001b[0m \u001b[0mfiles\u001b[0m\u001b[0;34m\u001b[0m\u001b[0;34m\u001b[0m\u001b[0m\n\u001b[0;32m----> 2\u001b[0;31m \u001b[0mfiles\u001b[0m\u001b[0;34m.\u001b[0m\u001b[0mdownload\u001b[0m\u001b[0;34m(\u001b[0m\u001b[0;34m'math_operations.py'\u001b[0m\u001b[0;34m)\u001b[0m\u001b[0;34m\u001b[0m\u001b[0;34m\u001b[0m\u001b[0m\n\u001b[0m",
            "\u001b[0;32m/usr/local/lib/python3.10/dist-packages/google/colab/files.py\u001b[0m in \u001b[0;36mdownload\u001b[0;34m(filename)\u001b[0m\n\u001b[1;32m    231\u001b[0m   \u001b[0;32mif\u001b[0m \u001b[0;32mnot\u001b[0m \u001b[0m_os\u001b[0m\u001b[0;34m.\u001b[0m\u001b[0mpath\u001b[0m\u001b[0;34m.\u001b[0m\u001b[0mexists\u001b[0m\u001b[0;34m(\u001b[0m\u001b[0mfilename\u001b[0m\u001b[0;34m)\u001b[0m\u001b[0;34m:\u001b[0m\u001b[0;34m\u001b[0m\u001b[0;34m\u001b[0m\u001b[0m\n\u001b[1;32m    232\u001b[0m     \u001b[0mmsg\u001b[0m \u001b[0;34m=\u001b[0m \u001b[0;34m'Cannot find file: {}'\u001b[0m\u001b[0;34m.\u001b[0m\u001b[0mformat\u001b[0m\u001b[0;34m(\u001b[0m\u001b[0mfilename\u001b[0m\u001b[0;34m)\u001b[0m\u001b[0;34m\u001b[0m\u001b[0;34m\u001b[0m\u001b[0m\n\u001b[0;32m--> 233\u001b[0;31m     \u001b[0;32mraise\u001b[0m \u001b[0mFileNotFoundError\u001b[0m\u001b[0;34m(\u001b[0m\u001b[0mmsg\u001b[0m\u001b[0;34m)\u001b[0m  \u001b[0;31m# pylint: disable=undefined-variable\u001b[0m\u001b[0;34m\u001b[0m\u001b[0;34m\u001b[0m\u001b[0m\n\u001b[0m\u001b[1;32m    234\u001b[0m \u001b[0;34m\u001b[0m\u001b[0m\n\u001b[1;32m    235\u001b[0m   \u001b[0mcomm_manager\u001b[0m \u001b[0;34m=\u001b[0m \u001b[0m_IPython\u001b[0m\u001b[0;34m.\u001b[0m\u001b[0mget_ipython\u001b[0m\u001b[0;34m(\u001b[0m\u001b[0;34m)\u001b[0m\u001b[0;34m.\u001b[0m\u001b[0mkernel\u001b[0m\u001b[0;34m.\u001b[0m\u001b[0mcomm_manager\u001b[0m\u001b[0;34m\u001b[0m\u001b[0;34m\u001b[0m\u001b[0m\n",
            "\u001b[0;31mFileNotFoundError\u001b[0m: Cannot find file: math_operations.py"
          ]
        }
      ]
    },
    {
      "cell_type": "code",
      "source": [
        "%%writefile math_operations.py\n",
        "\n",
        "def add(x, y):\n",
        "    return x + y\n",
        "\n",
        "def subtract(x, y):\n",
        "    return x - y\n",
        "\n",
        "def multiply(x, y):\n",
        "    return x * y\n",
        "\n",
        "def divide(x, y):\n",
        "    if y != 0:\n",
        "        return x / y\n",
        "    else:\n",
        "        print(\"에러: 0으로 나눌 수 없습니다\")"
      ],
      "metadata": {
        "colab": {
          "base_uri": "https://localhost:8080/"
        },
        "id": "w4HNsZx2VA98",
        "outputId": "a660210f-e0fd-438a-fe3c-d23042c2b4b5"
      },
      "execution_count": null,
      "outputs": [
        {
          "output_type": "stream",
          "name": "stdout",
          "text": [
            "Writing math_operations.py\n"
          ]
        }
      ]
    },
    {
      "cell_type": "code",
      "source": [
        "!ls"
      ],
      "metadata": {
        "colab": {
          "base_uri": "https://localhost:8080/"
        },
        "id": "lpx8I3hIVB7U",
        "outputId": "9e3ad78e-0837-4ae8-9ebc-e16efbb26d61"
      },
      "execution_count": null,
      "outputs": [
        {
          "output_type": "stream",
          "name": "stdout",
          "text": [
            "drive  math_operations.py  __pycache__\tsample_data\n"
          ]
        }
      ]
    },
    {
      "cell_type": "code",
      "source": [
        "from google.colab import files\n",
        "files.download('math_operations.py')"
      ],
      "metadata": {
        "colab": {
          "base_uri": "https://localhost:8080/",
          "height": 17
        },
        "id": "80w-_BP4VFZM",
        "outputId": "d093065f-7bb4-4057-e89a-7c1bb1ae2514"
      },
      "execution_count": null,
      "outputs": [
        {
          "output_type": "display_data",
          "data": {
            "text/plain": [
              "<IPython.core.display.Javascript object>"
            ],
            "application/javascript": [
              "\n",
              "    async function download(id, filename, size) {\n",
              "      if (!google.colab.kernel.accessAllowed) {\n",
              "        return;\n",
              "      }\n",
              "      const div = document.createElement('div');\n",
              "      const label = document.createElement('label');\n",
              "      label.textContent = `Downloading \"${filename}\": `;\n",
              "      div.appendChild(label);\n",
              "      const progress = document.createElement('progress');\n",
              "      progress.max = size;\n",
              "      div.appendChild(progress);\n",
              "      document.body.appendChild(div);\n",
              "\n",
              "      const buffers = [];\n",
              "      let downloaded = 0;\n",
              "\n",
              "      const channel = await google.colab.kernel.comms.open(id);\n",
              "      // Send a message to notify the kernel that we're ready.\n",
              "      channel.send({})\n",
              "\n",
              "      for await (const message of channel.messages) {\n",
              "        // Send a message to notify the kernel that we're ready.\n",
              "        channel.send({})\n",
              "        if (message.buffers) {\n",
              "          for (const buffer of message.buffers) {\n",
              "            buffers.push(buffer);\n",
              "            downloaded += buffer.byteLength;\n",
              "            progress.value = downloaded;\n",
              "          }\n",
              "        }\n",
              "      }\n",
              "      const blob = new Blob(buffers, {type: 'application/binary'});\n",
              "      const a = document.createElement('a');\n",
              "      a.href = window.URL.createObjectURL(blob);\n",
              "      a.download = filename;\n",
              "      div.appendChild(a);\n",
              "      a.click();\n",
              "      div.remove();\n",
              "    }\n",
              "  "
            ]
          },
          "metadata": {}
        },
        {
          "output_type": "display_data",
          "data": {
            "text/plain": [
              "<IPython.core.display.Javascript object>"
            ],
            "application/javascript": [
              "download(\"download_5615f5ba-f7f4-4bee-879a-bf22e53dcd0a\", \"math_operations.py\", 231)"
            ]
          },
          "metadata": {}
        }
      ]
    },
    {
      "cell_type": "code",
      "source": [
        "files.download('/content/drive/MyDrive/math_operations.py')"
      ],
      "metadata": {
        "colab": {
          "base_uri": "https://localhost:8080/",
          "height": 17
        },
        "id": "pruYUPgfVMWa",
        "outputId": "a55971f9-1764-47ba-bcca-d0e839a84077"
      },
      "execution_count": null,
      "outputs": [
        {
          "output_type": "display_data",
          "data": {
            "text/plain": [
              "<IPython.core.display.Javascript object>"
            ],
            "application/javascript": [
              "\n",
              "    async function download(id, filename, size) {\n",
              "      if (!google.colab.kernel.accessAllowed) {\n",
              "        return;\n",
              "      }\n",
              "      const div = document.createElement('div');\n",
              "      const label = document.createElement('label');\n",
              "      label.textContent = `Downloading \"${filename}\": `;\n",
              "      div.appendChild(label);\n",
              "      const progress = document.createElement('progress');\n",
              "      progress.max = size;\n",
              "      div.appendChild(progress);\n",
              "      document.body.appendChild(div);\n",
              "\n",
              "      const buffers = [];\n",
              "      let downloaded = 0;\n",
              "\n",
              "      const channel = await google.colab.kernel.comms.open(id);\n",
              "      // Send a message to notify the kernel that we're ready.\n",
              "      channel.send({})\n",
              "\n",
              "      for await (const message of channel.messages) {\n",
              "        // Send a message to notify the kernel that we're ready.\n",
              "        channel.send({})\n",
              "        if (message.buffers) {\n",
              "          for (const buffer of message.buffers) {\n",
              "            buffers.push(buffer);\n",
              "            downloaded += buffer.byteLength;\n",
              "            progress.value = downloaded;\n",
              "          }\n",
              "        }\n",
              "      }\n",
              "      const blob = new Blob(buffers, {type: 'application/binary'});\n",
              "      const a = document.createElement('a');\n",
              "      a.href = window.URL.createObjectURL(blob);\n",
              "      a.download = filename;\n",
              "      div.appendChild(a);\n",
              "      a.click();\n",
              "      div.remove();\n",
              "    }\n",
              "  "
            ]
          },
          "metadata": {}
        },
        {
          "output_type": "display_data",
          "data": {
            "text/plain": [
              "<IPython.core.display.Javascript object>"
            ],
            "application/javascript": [
              "download(\"download_a4041dee-4d69-4deb-8162-d094c4abcaab\", \"math_operations.py\", 231)"
            ]
          },
          "metadata": {}
        }
      ]
    },
    {
      "cell_type": "code",
      "source": [
        "import math_operations\n",
        "\n",
        "print(math_operations.add(5, 3))\n",
        "print(math_operations.subtract(5, 3))\n",
        "print(math_operations.multiply(5, 3))\n",
        "print(math_operations.divide(5, 3))"
      ],
      "metadata": {
        "colab": {
          "base_uri": "https://localhost:8080/"
        },
        "id": "PlwoAsOBVYVO",
        "outputId": "d1b44972-e3f6-49aa-d5a2-4056d86e3612"
      },
      "execution_count": null,
      "outputs": [
        {
          "output_type": "stream",
          "name": "stdout",
          "text": [
            "8\n",
            "2\n",
            "15\n",
            "1.6666666666666667\n"
          ]
        }
      ]
    },
    {
      "cell_type": "code",
      "source": [
        "image.shape = (50, 100)  # 세로 50, 가로 100\n",
        "num_salt = 5             # 노이즈 5개 추가\n",
        "np.random.randint(0, 50 - 1, 5)\n",
        "np.random.randint(0, 49, 5) -> [12, 3, 47, 25, 36]\n",
        "np.random.randint(0, 99, 5) -> [8, 90, 55, 73, 24]\n",
        "\n",
        "\n",
        "coords = [\n",
        "    [12, 3, 47, 25, 36],  # 세로 좌표 리스트\n",
        "    [8, 90, 55, 73, 24]   # 가로 좌표 리스트\n",
        "]\n"
      ],
      "metadata": {
        "id": "yTRlI_8WMmmM"
      },
      "execution_count": null,
      "outputs": []
    }
  ]
}