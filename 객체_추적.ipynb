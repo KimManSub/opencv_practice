{
  "cells": [
    {
      "cell_type": "markdown",
      "metadata": {
        "id": "view-in-github",
        "colab_type": "text"
      },
      "source": [
        "<a href=\"https://colab.research.google.com/github/KimManSub/opencv_practice/blob/main/%EA%B0%9D%EC%B2%B4_%EC%B6%94%EC%A0%81.ipynb\" target=\"_parent\"><img src=\"https://colab.research.google.com/assets/colab-badge.svg\" alt=\"Open In Colab\"/></a>"
      ]
    },
    {
      "cell_type": "code",
      "source": [
        "# Google Drive 마운트\n",
        "drive.mount('/content/drive')\n",
        "%cd /content/drive/MyDrive/Colab Notebooks\n",
        "\n",
        "\n",
        "# YOLO 모델 파일 다운로드 (이미 필요한 파일을 다운로드)\n",
        "!wget https://pjreddie.com/media/files/yolov3.weights -O /content/yolov3.weights\n",
        "!wget https://raw.githubusercontent.com/pjreddie/darknet/master/cfg/yolov3.cfg -O /content/yolov3.cfg\n",
        "!wget https://raw.githubusercontent.com/pjreddie/darknet/master/data/coco.names -O /content/coco.names\n"
      ],
      "metadata": {
        "colab": {
          "base_uri": "https://localhost:8080/"
        },
        "id": "Wgq4psCj0g2C",
        "outputId": "46b244d8-aeeb-453e-bd2a-8c974674576f"
      },
      "execution_count": null,
      "outputs": [
        {
          "output_type": "stream",
          "name": "stdout",
          "text": [
            "Drive already mounted at /content/drive; to attempt to forcibly remount, call drive.mount(\"/content/drive\", force_remount=True).\n",
            "/content/drive/MyDrive/Colab Notebooks\n",
            "--2024-12-30 18:27:40--  https://pjreddie.com/media/files/yolov3.weights\n",
            "Resolving pjreddie.com (pjreddie.com)... 162.0.215.52\n",
            "Connecting to pjreddie.com (pjreddie.com)|162.0.215.52|:443... connected.\n",
            "HTTP request sent, awaiting response... 200 OK\n",
            "Length: 248007048 (237M) [application/octet-stream]\n",
            "Saving to: ‘/content/yolov3.weights’\n",
            "\n",
            "/content/yolov3.wei 100%[===================>] 236.52M  34.7MB/s    in 7.2s    \n",
            "\n",
            "2024-12-30 18:27:47 (32.7 MB/s) - ‘/content/yolov3.weights’ saved [248007048/248007048]\n",
            "\n",
            "--2024-12-30 18:27:47--  https://raw.githubusercontent.com/pjreddie/darknet/master/cfg/yolov3.cfg\n",
            "Resolving raw.githubusercontent.com (raw.githubusercontent.com)... 185.199.110.133, 185.199.109.133, 185.199.108.133, ...\n",
            "Connecting to raw.githubusercontent.com (raw.githubusercontent.com)|185.199.110.133|:443... connected.\n",
            "HTTP request sent, awaiting response... 200 OK\n",
            "Length: 8342 (8.1K) [text/plain]\n",
            "Saving to: ‘/content/yolov3.cfg’\n",
            "\n",
            "/content/yolov3.cfg 100%[===================>]   8.15K  --.-KB/s    in 0s      \n",
            "\n",
            "2024-12-30 18:27:47 (90.1 MB/s) - ‘/content/yolov3.cfg’ saved [8342/8342]\n",
            "\n",
            "--2024-12-30 18:27:47--  https://raw.githubusercontent.com/pjreddie/darknet/master/data/coco.names\n",
            "Resolving raw.githubusercontent.com (raw.githubusercontent.com)... 185.199.108.133, 185.199.109.133, 185.199.110.133, ...\n",
            "Connecting to raw.githubusercontent.com (raw.githubusercontent.com)|185.199.108.133|:443... connected.\n",
            "HTTP request sent, awaiting response... 200 OK\n",
            "Length: 625 [text/plain]\n",
            "Saving to: ‘/content/coco.names’\n",
            "\n",
            "/content/coco.names 100%[===================>]     625  --.-KB/s    in 0s      \n",
            "\n",
            "2024-12-30 18:27:47 (52.8 MB/s) - ‘/content/coco.names’ saved [625/625]\n",
            "\n"
          ]
        }
      ]
    },
    {
      "cell_type": "code",
      "source": [
        "import torch\n",
        "print(torch.cuda.is_available())  # True이면 GPU가 활성화된 상태"
      ],
      "metadata": {
        "colab": {
          "base_uri": "https://localhost:8080/"
        },
        "id": "NutIoJPO3OvP",
        "outputId": "b4ef8b6e-8a50-4f4d-ef68-d878bdf76ecd"
      },
      "execution_count": null,
      "outputs": [
        {
          "output_type": "stream",
          "name": "stdout",
          "text": [
            "True\n"
          ]
        }
      ]
    },
    {
      "cell_type": "code",
      "source": [
        "import cv2\n",
        "import numpy as np\n",
        "from google.colab import drive\n",
        "from google.colab.patches import cv2_imshow\n",
        "\n",
        "# YOLO 모델 로드\n",
        "yolo_net = cv2.dnn.readNet('/content/yolov3.weights', '/content/yolov3.cfg')\n",
        "\n",
        "# GPU 사용을 위한 설정 (OpenCV DNN 모듈에서 GPU 사용)\n",
        "yolo_net.setPreferableBackend(cv2.dnn.DNN_BACKEND_CUDA)  # CUDA 백엔드 활성화\n",
        "yolo_net.setPreferableTarget(cv2.dnn.DNN_TARGET_CUDA)    # GPU에서 실행하도록 설정\n",
        "\n",
        "layer_names = yolo_net.getLayerNames()\n",
        "output_layers = yolo_net.getUnconnectedOutLayersNames()\n",
        "\n",
        "# COCO 클래스 라벨 로드 (차량 감지)\n",
        "with open('/content/coco.names', 'r') as f:\n",
        "    classes = [line.strip() for line in f.readlines()]\n",
        "\n",
        "# 차량 감지 함수\n",
        "def detect_vehicles(frame):\n",
        "    height, width, channels = frame.shape\n",
        "    blob = cv2.dnn.blobFromImage(frame, 0.00392, (416, 416), (0, 0, 0), True, crop=False)\n",
        "    yolo_net.setInput(blob)\n",
        "    outs = yolo_net.forward(output_layers)\n",
        "\n",
        "    class_ids = []\n",
        "    confidences = []\n",
        "    boxes = []\n",
        "\n",
        "    for out in outs:\n",
        "        for detection in out:\n",
        "            scores = detection[5:]\n",
        "            class_id = np.argmax(scores)\n",
        "            confidence = scores[class_id]\n",
        "            if confidence > 0.5 and class_id == 2:  # 클래스 ID 2는 차량 클래스 (Car)\n",
        "                center_x = int(detection[0] * width)\n",
        "                center_y = int(detection[1] * height)\n",
        "                w = int(detection[2] * width)\n",
        "                h = int(detection[3] * height)\n",
        "\n",
        "                x = int(center_x - w / 2)\n",
        "                y = int(center_y - h / 2)\n",
        "\n",
        "                boxes.append([x, y, w, h])\n",
        "                confidences.append(float(confidence))\n",
        "                class_ids.append(class_id)\n",
        "\n",
        "    return boxes, confidences, class_ids\n",
        "\n",
        "def main():\n",
        "    # 비디오 파일 경로 설정\n",
        "    video_path = \"/content/drive/MyDrive/Colab Notebooks/이미지처리/car.mp4\"\n",
        "    output_path = \"/content/drive/MyDrive/Colab Notebooks/car_tracking_output.mp4\"\n",
        "\n",
        "    # 비디오 캡처 객체 생성\n",
        "    cap = cv2.VideoCapture(video_path)\n",
        "    if not cap.isOpened():\n",
        "        print(\"Error: 비디오 파일을 열 수 없습니다.\")\n",
        "        return\n",
        "\n",
        "    # 비디오 속성 가져오기\n",
        "    frame_width = int(cap.get(cv2.CAP_PROP_FRAME_WIDTH))\n",
        "    frame_height = int(cap.get(cv2.CAP_PROP_FRAME_HEIGHT))\n",
        "    fps = 15  # 15fps로 처리하도록 수정\n",
        "\n",
        "    # 출력 비디오 설정 (해상도를 640x480으로 줄임)\n",
        "    resized_width = 640\n",
        "    resized_height = 480\n",
        "    fourcc = cv2.VideoWriter_fourcc(*'MP4V')\n",
        "    out = cv2.VideoWriter(output_path, fourcc, fps, (resized_width, resized_height))\n",
        "\n",
        "    # 추적기 목록\n",
        "    trackers = []\n",
        "    detection_interval = 15  # 감지 주기를 설정 (15프레임마다 재감지)\n",
        "\n",
        "    frame_count = 0\n",
        "    while True:\n",
        "        ret, frame = cap.read()\n",
        "        if not ret:\n",
        "            break\n",
        "\n",
        "        # 프레임 수 줄이기 (15fps로 처리)\n",
        "        frame_count += 1\n",
        "        if frame_count % (30 // 15) != 0:  # 15fps로 처리 (원래 FPS가 30이라면, 30fps에서 15fps로 변경)\n",
        "            continue\n",
        "\n",
        "        # 프레임 해상도 줄이기 (640x480으로 리사이즈)\n",
        "        frame = cv2.resize(frame, (resized_width, resized_height))\n",
        "\n",
        "        # 일정 주기마다 재감지 (예: 15프레임마다)\n",
        "        if frame_count % detection_interval == 0 or len(trackers) == 0:\n",
        "            boxes, confidences, class_ids = detect_vehicles(frame)\n",
        "\n",
        "            # 비최대 억제 (NMS)\n",
        "            indices = cv2.dnn.NMSBoxes(boxes, confidences, score_threshold=0.5, nms_threshold=0.4)\n",
        "\n",
        "            # 추적기 초기화\n",
        "            if len(indices) > 0:\n",
        "                for i in indices.flatten():\n",
        "                    x, y, w, h = boxes[i]\n",
        "                    # 각 차량에 대해 추적기 생성 및 초기화\n",
        "                    tracker = cv2.TrackerCSRT_create()  # 다른 추적기도 가능 (KCF, MOSSE 등)\n",
        "                    tracker.init(frame, (x, y, w, h))\n",
        "                    trackers.append(tracker)\n",
        "\n",
        "        else:\n",
        "            # 추적기 업데이트\n",
        "            for i, tracker in enumerate(trackers):\n",
        "                success, bbox = tracker.update(frame)\n",
        "\n",
        "                if success:\n",
        "                    x, y, w, h = [int(v) for v in bbox]\n",
        "                    cv2.rectangle(frame, (x, y), (x + w, y + h), (0, 255, 0), 2)\n",
        "                    cv2.putText(frame, \"Car\", (x, y - 10), cv2.FONT_HERSHEY_SIMPLEX, 0.6, (0, 255, 0), 2)\n",
        "                else:\n",
        "                    cv2.putText(frame, \"Lost\", (100, 50), cv2.FONT_HERSHEY_SIMPLEX, 0.6, (0, 0, 255), 2)\n",
        "\n",
        "        # 프레임 저장\n",
        "        out.write(frame)\n",
        "\n",
        "    # 리소스 해제\n",
        "    cap.release()\n",
        "    out.release()\n",
        "    cv2.destroyAllWindows()\n",
        "    print(\"차량 추적 완료\")\n",
        "\n",
        "    # 비디오 파일 다운로드 링크 생성\n",
        "    from google.colab import files\n",
        "    files.download(output_path)  # 결과 비디오 파일 다운로드\n",
        "\n",
        "if __name__ == \"__main__\":\n",
        "    main()\n"
      ],
      "metadata": {
        "id": "ycHOqeeR1-Hq"
      },
      "execution_count": null,
      "outputs": []
    }
  ],
  "metadata": {
    "colab": {
      "provenance": [],
      "gpuType": "T4",
      "authorship_tag": "ABX9TyMPU32/wcJ9S8r8wbAnz+2L",
      "include_colab_link": true
    },
    "kernelspec": {
      "display_name": "Python 3",
      "name": "python3"
    },
    "language_info": {
      "name": "python"
    },
    "accelerator": "GPU"
  },
  "nbformat": 4,
  "nbformat_minor": 0
}